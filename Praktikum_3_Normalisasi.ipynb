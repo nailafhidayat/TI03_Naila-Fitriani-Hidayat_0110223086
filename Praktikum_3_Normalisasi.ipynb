{
  "nbformat": 4,
  "nbformat_minor": 0,
  "metadata": {
    "colab": {
      "provenance": [],
      "authorship_tag": "ABX9TyPlxQW8KdC6ayf/YGWu4pIv",
      "include_colab_link": true
    },
    "kernelspec": {
      "name": "python3",
      "display_name": "Python 3"
    },
    "language_info": {
      "name": "python"
    }
  },
  "cells": [
    {
      "cell_type": "markdown",
      "metadata": {
        "id": "view-in-github",
        "colab_type": "text"
      },
      "source": [
        "<a href=\"https://colab.research.google.com/github/nailafhidayat/TI03_Naila-Fitriani-Hidayat_0110223086/blob/main/Praktikum_3_Normalisasi.ipynb\" target=\"_parent\"><img src=\"https://colab.research.google.com/assets/colab-badge.svg\" alt=\"Open In Colab\"/></a>"
      ]
    },
    {
      "cell_type": "code",
      "execution_count": null,
      "metadata": {
        "colab": {
          "base_uri": "https://localhost:8080/"
        },
        "id": "zVWB5MHCPsvA",
        "outputId": "f5b0ff26-97e7-4f4b-aa69-7d50f7896d47"
      },
      "outputs": [
        {
          "output_type": "stream",
          "name": "stdout",
          "text": [
            "Data Asli:\n",
            "[[2. 5.]\n",
            " [1. 4.]\n",
            " [3. 6.]]\n",
            "\n",
            "Data setelah Min-Max Scaling:\n",
            "[[0.5 0.5]\n",
            " [0.  0. ]\n",
            " [1.  1. ]]\n"
          ]
        }
      ],
      "source": [
        "import numpy as np\n",
        "from sklearn.preprocessing import MinMaxScaler\n",
        "\n",
        "# Data contoh\n",
        "data = np.array([[2.0, 5.0],\n",
        "                 [1.0, 4.0],\n",
        "                 [3.0, 6.0]])\n",
        "\n",
        "#Inisialisasi objek MinMaxScaler\n",
        "scaler = MinMaxScaler()\n",
        "\n",
        "# Fit dan transformasi data menggunakan Min_Max Scaling\n",
        "scaled_data = scaler.fit_transform(data)\n",
        "\n",
        "print(\"Data Asli:\")\n",
        "print(data)\n",
        "\n",
        "print(\"\\nData setelah Min-Max Scaling:\")\n",
        "print(scaled_data)"
      ]
    },
    {
      "cell_type": "code",
      "source": [
        "import numpy as np\n",
        "from sklearn.preprocessing import StandardScaler\n",
        "\n",
        "# Data contoh\n",
        "data = np.array([[2.0, 5.0],\n",
        "                 [1.0, 4.0],\n",
        "                 [3.0, 6.0]])\n",
        "\n",
        "# Inisialisasi objek StandardScaler\n",
        "scaler = StandardScaler()\n",
        "\n",
        "# Fit dan transformasi data menggunakan Z-Score Transformation\n",
        "scaled_data = scaler.fit_transform(data)\n",
        "\n",
        "print(\"Data Asli:\")\n",
        "print(data)\n",
        "\n",
        "print(\"\\nData setelah Z-Score Transformation:\")\n",
        "print(scaled_data)"
      ],
      "metadata": {
        "colab": {
          "base_uri": "https://localhost:8080/"
        },
        "id": "JaWo0meUQ94O",
        "outputId": "c23b3656-d63e-42ed-ac46-5535eb959910"
      },
      "execution_count": null,
      "outputs": [
        {
          "output_type": "stream",
          "name": "stdout",
          "text": [
            "Data Asli:\n",
            "[[2. 5.]\n",
            " [1. 4.]\n",
            " [3. 6.]]\n",
            "\n",
            "Data setelah Z-Score Transformation:\n",
            "[[ 0.          0.        ]\n",
            " [-1.22474487 -1.22474487]\n",
            " [ 1.22474487  1.22474487]]\n"
          ]
        }
      ]
    },
    {
      "cell_type": "code",
      "source": [
        "import numpy as np\n",
        "\n",
        "# Data contoh\n",
        "data = np.array([200, 300, 400, 500, 600])\n",
        "\n",
        "# Menentukan faktor penggeseran (scaling factor),\n",
        "# Miasalnya 1000 untuk mengubah ke rentang 0-1\n",
        "scaling_factor = 1000\n",
        "\n",
        "# Melakukan transformasi Decimal Scaling\n",
        "scaled_data = data / scaling_factor\n",
        "\n",
        "print(\"Data Asli:\")\n",
        "print(data)\n",
        "\n",
        "print(\"\\nData setelah Decimal Scaling:\")\n",
        "print(scaled_data)"
      ],
      "metadata": {
        "colab": {
          "base_uri": "https://localhost:8080/"
        },
        "id": "eSH3ebFyRYNL",
        "outputId": "b35edd74-e9de-4291-ef7e-111fcc18c836"
      },
      "execution_count": null,
      "outputs": [
        {
          "output_type": "stream",
          "name": "stdout",
          "text": [
            "Data Asli:\n",
            "[200 300 400 500 600]\n",
            "\n",
            "Data setelah Decimal Scaling:\n",
            "[0.2 0.3 0.4 0.5 0.6]\n"
          ]
        }
      ]
    }
  ]
}