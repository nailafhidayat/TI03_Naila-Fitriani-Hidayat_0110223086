{
  "nbformat": 4,
  "nbformat_minor": 0,
  "metadata": {
    "colab": {
      "provenance": [],
      "authorship_tag": "ABX9TyNDA/nkOCoTUtJZ0fk50JtV",
      "include_colab_link": true
    },
    "kernelspec": {
      "name": "python3",
      "display_name": "Python 3"
    },
    "language_info": {
      "name": "python"
    }
  },
  "cells": [
    {
      "cell_type": "markdown",
      "metadata": {
        "id": "view-in-github",
        "colab_type": "text"
      },
      "source": [
        "<a href=\"https://colab.research.google.com/github/nailafhidayat/TI03_Naila-Fitriani-Hidayat_0110223086/blob/main/Naila_Fitriani_Hidayat_0110223086_%5BPRAKTIKUM_1%5D.ipynb\" target=\"_parent\"><img src=\"https://colab.research.google.com/assets/colab-badge.svg\" alt=\"Open In Colab\"/></a>"
      ]
    },
    {
      "cell_type": "code",
      "execution_count": null,
      "metadata": {
        "colab": {
          "base_uri": "https://localhost:8080/"
        },
        "id": "I74XAe9owhIO",
        "outputId": "c689a89b-5a0b-44c3-d2ed-728cfb9b1d52"
      },
      "outputs": [
        {
          "output_type": "stream",
          "name": "stdout",
          "text": [
            "   Gender  Height  Weight  Index\n",
            "0    Male     174      96      4\n",
            "1    Male     189      87      2\n",
            "2  Female     185     110      4\n",
            "3  Female     195     104      3\n",
            "4    Male     149      61      3\n",
            "<class 'pandas.core.frame.DataFrame'>\n",
            "RangeIndex: 500 entries, 0 to 499\n",
            "Data columns (total 4 columns):\n",
            " #   Column  Non-Null Count  Dtype \n",
            "---  ------  --------------  ----- \n",
            " 0   Gender  500 non-null    object\n",
            " 1   Height  500 non-null    int64 \n",
            " 2   Weight  500 non-null    int64 \n",
            " 3   Index   500 non-null    int64 \n",
            "dtypes: int64(3), object(1)\n",
            "memory usage: 15.8+ KB\n",
            "None\n",
            "           Height      Weight       Index\n",
            "count  500.000000  500.000000  500.000000\n",
            "mean   169.944000  106.000000    3.748000\n",
            "std     16.375261   32.382607    1.355053\n",
            "min    140.000000   50.000000    0.000000\n",
            "25%    156.000000   80.000000    3.000000\n",
            "50%    170.500000  106.000000    4.000000\n",
            "75%    184.000000  136.000000    5.000000\n",
            "max    199.000000  160.000000    5.000000\n"
          ]
        }
      ],
      "source": [
        "import pandas as pd\n",
        "\n",
        "# Baca file CSV\n",
        "df = pd.read_csv('/content/500_Person_Gender_Height_Weight_Index.csv')\n",
        "\n",
        "# Tampilkan semua data\n",
        "print(df.head())\n",
        "print(df.info())\n",
        "print(df.describe())"
      ]
    },
    {
      "cell_type": "code",
      "source": [
        "# Hitung statistik untuk berat dan tinggi badan berdasarkan gender\n",
        "weight_stats = df.groupby('Gender')['Weight'].describe()\n",
        "height_stats = df.groupby('Gender')['Height'].describe()\n",
        "\n",
        "print(\"Statistik Berat Badan berdasarkan Gender:\")\n",
        "print(weight_stats)\n",
        "print(\"\\nStatistik Tinggi Badan berdasarkan Gender:\")\n",
        "print(height_stats)"
      ],
      "metadata": {
        "colab": {
          "base_uri": "https://localhost:8080/"
        },
        "id": "bCsx_qVNxDBM",
        "outputId": "43af2839-220d-4b6b-98cc-e0b8e0fb058a"
      },
      "execution_count": null,
      "outputs": [
        {
          "output_type": "stream",
          "name": "stdout",
          "text": [
            "Statistik Berat Badan berdasarkan Gender:\n",
            "        count        mean        std   min   25%    50%    75%    max\n",
            "Gender                                                               \n",
            "Female  255.0  105.698039  32.962025  50.0  79.0  106.0  135.0  160.0\n",
            "Male    245.0  106.314286  31.832734  50.0  80.0  105.0  137.0  160.0\n",
            "\n",
            "Statistik Tinggi Badan berdasarkan Gender:\n",
            "        count        mean        std    min    25%    50%    75%    max\n",
            "Gender                                                                 \n",
            "Female  255.0  170.227451  15.711825  140.0  157.0  170.0  184.0  199.0\n",
            "Male    245.0  169.648980  17.065665  140.0  154.0  171.0  183.0  199.0\n"
          ]
        }
      ]
    },
    {
      "cell_type": "code",
      "source": [
        "# Ubah kolom gender menjadi data biner\n",
        "df['Gender'] = df['Gender'].map({'Female': 0, 'Male': 1})\n",
        "\n",
        "print(\"Data setelah konversi gender ke biner:\")\n",
        "print(df.head())"
      ],
      "metadata": {
        "colab": {
          "base_uri": "https://localhost:8080/"
        },
        "id": "qYGBG8KBxRpt",
        "outputId": "1770be32-6ab3-46e6-b00b-661613af94e9"
      },
      "execution_count": null,
      "outputs": [
        {
          "output_type": "stream",
          "name": "stdout",
          "text": [
            "Data setelah konversi gender ke biner:\n",
            "   Gender  Height  Weight  Index        BMI\n",
            "0     NaN     174      96      4  31.708284\n",
            "1     NaN     189      87      2  24.355421\n",
            "2     NaN     185     110      4  32.140248\n",
            "3     NaN     195     104      3  27.350427\n",
            "4     NaN     149      61      3  27.476240\n"
          ]
        }
      ]
    },
    {
      "cell_type": "code",
      "source": [
        "import matplotlib.pyplot as plt\n",
        "# Hitung Index BMI\n",
        "df['BMI'] = df['Weight'] / (df['Height'] / 100) ** 2\n",
        "\n",
        "# Buat histogram Index BMI berdasarkan gender\n",
        "plt.figure(figsize=(10, 6))\n",
        "plt.hist([df[df['Gender'] == 0]['BMI'], df[df['Gender'] == 1]['BMI']], label=['Female', 'Male'], alpha=0.5)\n",
        "plt.xlabel('Index BMI')\n",
        "plt.ylabel('Frekuensi')\n",
        "plt.title('Distribusi Index BMI berdasarkan Gender')\n",
        "plt.legend()\n",
        "df.plot()\n",
        "plt.show()\n"
      ],
      "metadata": {
        "colab": {
          "base_uri": "https://localhost:8080/",
          "height": 211
        },
        "id": "sLLFRchlxgTY",
        "outputId": "2f71c7a2-fb36-46f3-a6b1-1ffc1b05d1b8"
      },
      "execution_count": 12,
      "outputs": [
        {
          "output_type": "error",
          "ename": "NameError",
          "evalue": "name 'df' is not defined",
          "traceback": [
            "\u001b[0;31m---------------------------------------------------------------------------\u001b[0m",
            "\u001b[0;31mNameError\u001b[0m                                 Traceback (most recent call last)",
            "\u001b[0;32m<ipython-input-12-acdee55a11cf>\u001b[0m in \u001b[0;36m<cell line: 3>\u001b[0;34m()\u001b[0m\n\u001b[1;32m      1\u001b[0m \u001b[0;32mimport\u001b[0m \u001b[0mmatplotlib\u001b[0m\u001b[0;34m.\u001b[0m\u001b[0mpyplot\u001b[0m \u001b[0;32mas\u001b[0m \u001b[0mplt\u001b[0m\u001b[0;34m\u001b[0m\u001b[0;34m\u001b[0m\u001b[0m\n\u001b[1;32m      2\u001b[0m \u001b[0;31m# Hitung Index BMI\u001b[0m\u001b[0;34m\u001b[0m\u001b[0;34m\u001b[0m\u001b[0m\n\u001b[0;32m----> 3\u001b[0;31m \u001b[0mdf\u001b[0m\u001b[0;34m[\u001b[0m\u001b[0;34m'BMI'\u001b[0m\u001b[0;34m]\u001b[0m \u001b[0;34m=\u001b[0m \u001b[0mdf\u001b[0m\u001b[0;34m[\u001b[0m\u001b[0;34m'Weight'\u001b[0m\u001b[0;34m]\u001b[0m \u001b[0;34m/\u001b[0m \u001b[0;34m(\u001b[0m\u001b[0mdf\u001b[0m\u001b[0;34m[\u001b[0m\u001b[0;34m'Height'\u001b[0m\u001b[0;34m]\u001b[0m \u001b[0;34m/\u001b[0m \u001b[0;36m100\u001b[0m\u001b[0;34m)\u001b[0m \u001b[0;34m**\u001b[0m \u001b[0;36m2\u001b[0m\u001b[0;34m\u001b[0m\u001b[0;34m\u001b[0m\u001b[0m\n\u001b[0m\u001b[1;32m      4\u001b[0m \u001b[0;34m\u001b[0m\u001b[0m\n\u001b[1;32m      5\u001b[0m \u001b[0;31m# Buat histogram Index BMI berdasarkan gender\u001b[0m\u001b[0;34m\u001b[0m\u001b[0;34m\u001b[0m\u001b[0m\n",
            "\u001b[0;31mNameError\u001b[0m: name 'df' is not defined"
          ]
        }
      ]
    }
  ]
}