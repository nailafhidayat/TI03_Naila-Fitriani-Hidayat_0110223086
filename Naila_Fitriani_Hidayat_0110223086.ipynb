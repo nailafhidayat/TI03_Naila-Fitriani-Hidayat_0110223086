{
  "nbformat": 4,
  "nbformat_minor": 0,
  "metadata": {
    "colab": {
      "provenance": []
    },
    "kernelspec": {
      "name": "python3",
      "display_name": "Python 3"
    },
    "language_info": {
      "name": "python"
    }
  },
  "cells": [
    {
      "cell_type": "code",
      "execution_count": null,
      "metadata": {
        "colab": {
          "base_uri": "https://localhost:8080/"
        },
        "id": "K6GawuoYB1sp",
        "outputId": "820213a0-0eb2-410c-b84f-f02fc231a472"
      },
      "outputs": [
        {
          "output_type": "stream",
          "name": "stdout",
          "text": [
            "Object Creation:\n",
            "Series:\n",
            "0    1.0\n",
            "1    3.0\n",
            "2    5.0\n",
            "3    NaN\n",
            "4    6.0\n",
            "5    8.0\n",
            "dtype: float64\n",
            "\n",
            "DataFrame:\n",
            "                   A         B         C         D\n",
            "2023-10-01  0.068365 -0.387465 -0.639419 -1.176002\n",
            "2023-10-02 -0.209603 -1.140516  0.245088 -1.111073\n",
            "2023-10-03  0.505916  0.711211 -0.202662  0.357470\n",
            "2023-10-04 -0.863732 -1.233863 -1.664385  0.216665\n",
            "2023-10-05 -0.207426  0.577807 -1.318761  0.393931\n",
            "2023-10-06 -2.621136  0.714853  0.808571 -1.357421\n",
            "==================================================\n"
          ]
        }
      ],
      "source": [
        "import pandas as pd\n",
        "import numpy as np\n",
        "\n",
        "# Object Creation\n",
        "s = pd.Series([1, 3, 5, np.nan, 6, 8])\n",
        "dates = pd.date_range('2023-10-01', periods=6)\n",
        "df = pd.DataFrame(np.random.randn(6, 4), index=dates, columns=list('ABCD'))\n",
        "\n",
        "print(\"Object Creation:\")\n",
        "print(\"Series:\")\n",
        "print(s)\n",
        "print(\"\\nDataFrame:\")\n",
        "print(df)\n",
        "print(\"=\"*50)\n",
        "\n",
        "\n"
      ]
    },
    {
      "cell_type": "code",
      "source": [
        "# Viewing Data\n",
        "print(\"Viewing Data:\")\n",
        "print(\"First 3 rows:\")\n",
        "print(df.head(3))\n",
        "print(\"\\nLast 2 rows:\")\n",
        "print(df.tail(2))\n",
        "print(\"\\nIndex and Columns:\")\n",
        "print(df.index)\n",
        "print(df.columns)\n",
        "print(\"=\"*40)"
      ],
      "metadata": {
        "colab": {
          "base_uri": "https://localhost:8080/"
        },
        "id": "4ejiIMiWDwGH",
        "outputId": "418fea1a-bc8f-4bd9-d8b6-b9340a521807"
      },
      "execution_count": null,
      "outputs": [
        {
          "output_type": "stream",
          "name": "stdout",
          "text": [
            "Viewing Data:\n",
            "First 3 rows:\n",
            "                   A         B         C         D\n",
            "2023-10-01  0.068365 -0.387465 -0.639419 -1.176002\n",
            "2023-10-02 -0.209603 -1.140516  0.245088 -1.111073\n",
            "2023-10-03  0.505916  0.711211 -0.202662  0.357470\n",
            "\n",
            "Last 2 rows:\n",
            "                   A         B         C         D\n",
            "2023-10-05 -0.207426  0.577807 -1.318761  0.393931\n",
            "2023-10-06 -2.621136  0.714853  0.808571 -1.357421\n",
            "\n",
            "Index and Columns:\n",
            "DatetimeIndex(['2023-10-01', '2023-10-02', '2023-10-03', '2023-10-04',\n",
            "               '2023-10-05', '2023-10-06'],\n",
            "              dtype='datetime64[ns]', freq='D')\n",
            "Index(['A', 'B', 'C', 'D'], dtype='object')\n",
            "========================================\n"
          ]
        }
      ]
    },
    {
      "cell_type": "code",
      "source": [
        "# Selection\n",
        "print(\"Selection:\")\n",
        "print(\"Selecting a column (A):\")\n",
        "print(df['A'])\n",
        "print(\"\\nSelecting by label (row 0):\")\n",
        "print(df.loc[dates[0]])\n",
        "print(\"\\nSelecting by position (row 1):\")\n",
        "print(df.iloc[1])\n",
        "print(\"n\\Selecting a subset of rows and columns:\")\n",
        "print(df.loc[dates[1:3], ['A', 'B']])\n",
        "print('='*40)"
      ],
      "metadata": {
        "colab": {
          "base_uri": "https://localhost:8080/"
        },
        "id": "pJqt95dOEYxG",
        "outputId": "a27e1689-707b-4cb7-ec62-eee1d0d3d75c"
      },
      "execution_count": null,
      "outputs": [
        {
          "output_type": "stream",
          "name": "stdout",
          "text": [
            "Selection:\n",
            "Selecting a column (A):\n",
            "2023-10-01    0.068365\n",
            "2023-10-02   -0.209603\n",
            "2023-10-03    0.505916\n",
            "2023-10-04   -0.863732\n",
            "2023-10-05   -0.207426\n",
            "2023-10-06   -2.621136\n",
            "Freq: D, Name: A, dtype: float64\n",
            "\n",
            "Selecting by label (row 0):\n",
            "A    0.068365\n",
            "B   -0.387465\n",
            "C   -0.639419\n",
            "D   -1.176002\n",
            "Name: 2023-10-01 00:00:00, dtype: float64\n",
            "\n",
            "Selecting by position (row 1):\n",
            "A   -0.209603\n",
            "B   -1.140516\n",
            "C    0.245088\n",
            "D   -1.111073\n",
            "Name: 2023-10-02 00:00:00, dtype: float64\n",
            "n\\Selecting a subset of rows and columns:\n",
            "                   A         B\n",
            "2023-10-02 -0.209603 -1.140516\n",
            "2023-10-03  0.505916  0.711211\n",
            "========================================\n"
          ]
        }
      ]
    },
    {
      "cell_type": "code",
      "source": [
        "# Missing Data\n",
        "df1 = df.reindex(index=dates[0:4], columns=list(df.columns) + ['E'])\n",
        "df1.loc[dates[0]:dates[1], 'E'] = 1\n",
        "\n",
        "print(\"Missing Data:\")\n",
        "print(\"DataFrame with missing values:\")\n",
        "print(df1)\n",
        "print(\"\\nDropping rows with missing values:\")\n",
        "print(df1.dropna())\n",
        "print(\"\\nFilling missing values:\")\n",
        "print(df1.fillna(value=0))\n",
        "print(\"=\"*60)"
      ],
      "metadata": {
        "colab": {
          "base_uri": "https://localhost:8080/"
        },
        "id": "QBGkPPuqGIyp",
        "outputId": "7d0a1cb2-7263-4eee-8556-0a18284602fa"
      },
      "execution_count": null,
      "outputs": [
        {
          "output_type": "stream",
          "name": "stdout",
          "text": [
            "Missing Data:\n",
            "DataFrame with missing values:\n",
            "                   A         B         C         D    E\n",
            "2023-10-01  0.068365 -0.387465 -0.639419 -1.176002  1.0\n",
            "2023-10-02 -0.209603 -1.140516  0.245088 -1.111073  1.0\n",
            "2023-10-03  0.505916  0.711211 -0.202662  0.357470  NaN\n",
            "2023-10-04 -0.863732 -1.233863 -1.664385  0.216665  NaN\n",
            "\n",
            "Dropping rows with missing values:\n",
            "                   A         B         C         D    E\n",
            "2023-10-01  0.068365 -0.387465 -0.639419 -1.176002  1.0\n",
            "2023-10-02 -0.209603 -1.140516  0.245088 -1.111073  1.0\n",
            "\n",
            "Filling missing values:\n",
            "                   A         B         C         D    E\n",
            "2023-10-01  0.068365 -0.387465 -0.639419 -1.176002  1.0\n",
            "2023-10-02 -0.209603 -1.140516  0.245088 -1.111073  1.0\n",
            "2023-10-03  0.505916  0.711211 -0.202662  0.357470  0.0\n",
            "2023-10-04 -0.863732 -1.233863 -1.664385  0.216665  0.0\n",
            "============================================================\n"
          ]
        }
      ]
    },
    {
      "cell_type": "code",
      "source": [
        "# Operations\n",
        "print(\"Operations:\")\n",
        "print(\"Mean of each column:\")\n",
        "print(df.mean())\n",
        "print(\"\\nSum of each row:\")\n",
        "print(df.sum(axis=1))\n",
        "print(\"=\"*40)"
      ],
      "metadata": {
        "colab": {
          "base_uri": "https://localhost:8080/"
        },
        "id": "29TjN5WbHcbX",
        "outputId": "9ca9e522-f3c5-4784-9a2f-12707bed23bc"
      },
      "execution_count": null,
      "outputs": [
        {
          "output_type": "stream",
          "name": "stdout",
          "text": [
            "Operations:\n",
            "Mean of each column:\n",
            "A   -0.554603\n",
            "B   -0.126329\n",
            "C   -0.461928\n",
            "D   -0.446072\n",
            "dtype: float64\n",
            "\n",
            "Sum of each row:\n",
            "2023-10-01   -2.134521\n",
            "2023-10-02   -2.216104\n",
            "2023-10-03    1.371936\n",
            "2023-10-04   -3.545316\n",
            "2023-10-05   -0.554448\n",
            "2023-10-06   -2.455133\n",
            "Freq: D, dtype: float64\n",
            "========================================\n"
          ]
        }
      ]
    },
    {
      "cell_type": "code",
      "source": [
        "# Merge\n",
        "left = pd.DataFrame({'key': ['K0', 'K1', 'K2', 'K3'], 'A': ['A0', 'A1', 'A2', 'A3'], 'B': ['B0', 'B1', 'B2', 'B3']})\n",
        "right = pd.DataFrame({'key' : ['K0', 'K1', 'K2', 'K3'], 'C': ['C0', 'C1', 'C2', 'C3'], 'D': ['D0', 'D1', 'D2', 'D3']})\n",
        "merged_df = pd.merge(left, right, on='key')\n",
        "\n",
        "print(\"Merge:\")\n",
        "print(\"Merged DataFrame:\")\n",
        "print(merged_df)\n",
        "print(\"=\"*40)"
      ],
      "metadata": {
        "colab": {
          "base_uri": "https://localhost:8080/"
        },
        "id": "u6Vh1yDlI0lU",
        "outputId": "6c72bb68-63bd-4e0a-d516-0bd8c59aabf7"
      },
      "execution_count": null,
      "outputs": [
        {
          "output_type": "stream",
          "name": "stdout",
          "text": [
            "Merge:\n",
            "Merged DataFrame:\n",
            "  key   A   B   C   D\n",
            "0  K0  A0  B0  C0  D0\n",
            "1  K1  A1  B1  C1  D1\n",
            "2  K2  A2  B2  C2  D2\n",
            "3  K3  A3  B3  C3  D3\n",
            "========================================\n"
          ]
        }
      ]
    },
    {
      "cell_type": "code",
      "source": [
        "# Grouping\n",
        "grouped = df.groupby('A').sum()\n",
        "print(\"Grouping:\")\n",
        "print(\"Grouped DataFrame:\")\n",
        "print(grouped)\n",
        "print(\"=\"*40)"
      ],
      "metadata": {
        "colab": {
          "base_uri": "https://localhost:8080/"
        },
        "id": "PL5C50KXKfzi",
        "outputId": "d7cfc7d9-6a7b-431e-d56d-e5aaf7883d42"
      },
      "execution_count": null,
      "outputs": [
        {
          "output_type": "stream",
          "name": "stdout",
          "text": [
            "Grouping:\n",
            "Grouped DataFrame:\n",
            "                  B         C         D\n",
            "A                                      \n",
            "-2.621136  0.714853  0.808571 -1.357421\n",
            "-0.863732 -1.233863 -1.664385  0.216665\n",
            "-0.209603 -1.140516  0.245088 -1.111073\n",
            "-0.207426  0.577807 -1.318761  0.393931\n",
            " 0.068365 -0.387465 -0.639419 -1.176002\n",
            " 0.505916  0.711211 -0.202662  0.357470\n",
            "========================================\n"
          ]
        }
      ]
    },
    {
      "cell_type": "code",
      "source": [
        "# Reshaping\n",
        "stacked = df.stack()\n",
        "unstacked = stacked.unstack()\n",
        "\n",
        "print(\"Reshaping:\")\n",
        "print(\"Stacked DataFrame:\")\n",
        "print(stacked)\n",
        "print(\"\\nUnstacked DataFrame:\")\n",
        "print(unstacked)\n",
        "print(\"=\"*40)"
      ],
      "metadata": {
        "colab": {
          "base_uri": "https://localhost:8080/"
        },
        "id": "kRswj-POKf23",
        "outputId": "34b58ef0-d02d-4dd7-992f-9ace6558bd0b"
      },
      "execution_count": null,
      "outputs": [
        {
          "output_type": "stream",
          "name": "stdout",
          "text": [
            "Reshaping:\n",
            "Stacked DataFrame:\n",
            "2023-10-01  A    0.068365\n",
            "            B   -0.387465\n",
            "            C   -0.639419\n",
            "            D   -1.176002\n",
            "2023-10-02  A   -0.209603\n",
            "            B   -1.140516\n",
            "            C    0.245088\n",
            "            D   -1.111073\n",
            "2023-10-03  A    0.505916\n",
            "            B    0.711211\n",
            "            C   -0.202662\n",
            "            D    0.357470\n",
            "2023-10-04  A   -0.863732\n",
            "            B   -1.233863\n",
            "            C   -1.664385\n",
            "            D    0.216665\n",
            "2023-10-05  A   -0.207426\n",
            "            B    0.577807\n",
            "            C   -1.318761\n",
            "            D    0.393931\n",
            "2023-10-06  A   -2.621136\n",
            "            B    0.714853\n",
            "            C    0.808571\n",
            "            D   -1.357421\n",
            "dtype: float64\n",
            "\n",
            "Unstacked DataFrame:\n",
            "                   A         B         C         D\n",
            "2023-10-01  0.068365 -0.387465 -0.639419 -1.176002\n",
            "2023-10-02 -0.209603 -1.140516  0.245088 -1.111073\n",
            "2023-10-03  0.505916  0.711211 -0.202662  0.357470\n",
            "2023-10-04 -0.863732 -1.233863 -1.664385  0.216665\n",
            "2023-10-05 -0.207426  0.577807 -1.318761  0.393931\n",
            "2023-10-06 -2.621136  0.714853  0.808571 -1.357421\n",
            "========================================\n"
          ]
        }
      ]
    },
    {
      "cell_type": "code",
      "source": [
        "# Time Series\n",
        "ts = pd.Series(np.random.randn(1000), index=pd.date_range('2023-01-01', periods=1000))\n",
        "cumulative_sum = ts.cumsum()\n",
        "\n",
        "print(\"Time Series:\")\n",
        "print(ts.head())\n",
        "print(\"\\nCumulative Sum:\")\n",
        "print(cumulative_sum.head())\n",
        "print(\"=\"*40)"
      ],
      "metadata": {
        "colab": {
          "base_uri": "https://localhost:8080/"
        },
        "id": "__lmaCm2L5RY",
        "outputId": "81c8832c-3385-4176-b488-8eb8133e8b27"
      },
      "execution_count": null,
      "outputs": [
        {
          "output_type": "stream",
          "name": "stdout",
          "text": [
            "Time Series:\n",
            "2023-01-01    0.242292\n",
            "2023-01-02   -0.150634\n",
            "2023-01-03   -2.434781\n",
            "2023-01-04    1.643075\n",
            "2023-01-05   -0.672231\n",
            "Freq: D, dtype: float64\n",
            "\n",
            "Cumulative Sum:\n",
            "2023-01-01    0.242292\n",
            "2023-01-02    0.091658\n",
            "2023-01-03   -2.343123\n",
            "2023-01-04   -0.700048\n",
            "2023-01-05   -1.372279\n",
            "Freq: D, dtype: float64\n",
            "========================================\n"
          ]
        }
      ]
    },
    {
      "cell_type": "code",
      "source": [
        "# Categoricals\n",
        "import pandas as pd\n",
        "\n",
        "# Create a categorical Series\n",
        "s = pd.Series([\"cat\", \"dog\", \"bird\", \"cat\", \"dog\"], dtype=\"category\")\n",
        "\n",
        "# Define new categories\n",
        "new_categories = [\"Category 1\", \"Category 2\", \"Category 3\"]\n",
        "\n",
        "# Create a new categorical Series with the new categories\n",
        "s_new = s.cat.set_categories(new_categories)\n",
        "\n",
        "print(\"Categoricals:\")\n",
        "print(\"Original Categorical Series:\")\n",
        "print(s)\n",
        "print(\"\\nNew Categorical Series with updated categories:\")\n",
        "print(s_new)"
      ],
      "metadata": {
        "colab": {
          "base_uri": "https://localhost:8080/"
        },
        "id": "OnjBkPeLM3HN",
        "outputId": "e529a8ab-281b-4276-df8e-46acfa9c9135"
      },
      "execution_count": null,
      "outputs": [
        {
          "output_type": "stream",
          "name": "stdout",
          "text": [
            "Categoricals:\n",
            "Original Categorical Series:\n",
            "0     cat\n",
            "1     dog\n",
            "2    bird\n",
            "3     cat\n",
            "4     dog\n",
            "dtype: category\n",
            "Categories (3, object): ['bird', 'cat', 'dog']\n",
            "\n",
            "New Categorical Series with updated categories:\n",
            "0    NaN\n",
            "1    NaN\n",
            "2    NaN\n",
            "3    NaN\n",
            "4    NaN\n",
            "dtype: category\n",
            "Categories (3, object): ['Category 1', 'Category 2', 'Category 3']\n"
          ]
        }
      ]
    },
    {
      "cell_type": "code",
      "source": [
        "import matplotlib.pyplot as plt\n",
        "# Plotting\n",
        "df.plot()\n",
        "plt.show()\n",
        "\n",
        "print(\"Plotting:\")\n",
        "print(\"=\"*40)"
      ],
      "metadata": {
        "colab": {
          "base_uri": "https://localhost:8080/",
          "height": 497
        },
        "id": "T7HaHRBUOS1n",
        "outputId": "cfd55a79-784f-41f2-fc0e-f43d0615fede"
      },
      "execution_count": null,
      "outputs": [
        {
          "output_type": "display_data",
          "data": {
            "text/plain": [
              "<Figure size 640x480 with 1 Axes>"
            ],
            "image/png": "[encoded data removed]"
          },
          "metadata": {}
        },
        {
          "output_type": "stream",
          "name": "stdout",
          "text": [
            "Plotting:\n",
            "========================================\n"
          ]
        }
      ]
    },
    {
      "cell_type": "code",
      "source": [
        "# Importing and Exporting Data\n",
        "imported_df = pd.read_csv('/sample_data.csv')\n",
        "\n",
        "print(\"Importing and Exporting Data:\")\n",
        "print(\"Exporting DataFrame to CSV:\")\n",
        "print(df)\n",
        "print(\"\\nImported DataFrame from csv:\")\n",
        "print(\"=\"*40)\n",
        "df.to_csv('sampel_data2.csv')"
      ],
      "metadata": {
        "colab": {
          "base_uri": "https://localhost:8080/"
        },
        "id": "rr95uYTOOoxq",
        "outputId": "5764f343-2987-4aa5-8b3a-be678a8400f6"
      },
      "execution_count": 19,
      "outputs": [
        {
          "output_type": "stream",
          "name": "stdout",
          "text": [
            "Importing and Exporting Data:\n",
            "Exporting DataFrame to CSV:\n",
            "                   A         B         C         D\n",
            "2023-10-01  0.068365 -0.387465 -0.639419 -1.176002\n",
            "2023-10-02 -0.209603 -1.140516  0.245088 -1.111073\n",
            "2023-10-03  0.505916  0.711211 -0.202662  0.357470\n",
            "2023-10-04 -0.863732 -1.233863 -1.664385  0.216665\n",
            "2023-10-05 -0.207426  0.577807 -1.318761  0.393931\n",
            "2023-10-06 -2.621136  0.714853  0.808571 -1.357421\n",
            "\n",
            "Imported DataFrame from csv:\n",
            "========================================\n"
          ]
        }
      ]
    }
  ]
}